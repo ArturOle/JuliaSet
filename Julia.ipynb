{
 "cells": [
  {
   "cell_type": "markdown",
   "source": [
    "# Julia Set - fractals and art\r\n",
    "##            written in Julia\r\n",
    "\r\n",
    "\r\n",
    "The Julia set and Fatou set are the two complementary sets that are defined by a <ins>function</ins>.\r\n",
    "\r\n"
   ],
   "metadata": {}
  },
  {
   "cell_type": "code",
   "execution_count": 1,
   "source": [
    "# Normal Julia set\r\n",
    "MaxIter = 256\r\n",
    "\r\n",
    "function julia_set(z, c)\r\n",
    "\"\"\"\r\n",
    "Generator of the Julia set written in Julia programming lenguage.\r\n",
    "\r\n",
    "\"\"\"\r\n",
    "    for i = 1:MaxIter\r\n",
    "        abs2(z) > 4 && return i-1\r\n",
    "        z = z * z + c\r\n",
    "    end\r\n",
    "\r\n",
    "    return MaxIter\r\n",
    "end"
   ],
   "outputs": [
    {
     "data": {
      "text/plain": [
       "julia_set (generic function with 1 method)"
      ]
     },
     "metadata": {},
     "output_type": "display_data"
    }
   ],
   "metadata": {}
  },
  {
   "cell_type": "code",
   "execution_count": 3,
   "source": [
    "julia_set(3 + 0.23244im,  0.23244 + 3im)"
   ],
   "outputs": [
    {
     "output_type": "display_data",
     "data": {
      "text/plain": [
       "0"
      ]
     },
     "metadata": {}
    }
   ],
   "metadata": {}
  },
  {
   "cell_type": "code",
   "execution_count": 4,
   "source": [
    "# Golden Ratio for Julia set\r\n",
    "\r\n",
    "ϕ = (1 + sqrt(5))/2   "
   ],
   "outputs": [
    {
     "output_type": "display_data",
     "data": {
      "text/plain": [
       "1.618033988749895"
      ]
     },
     "metadata": {}
    }
   ],
   "metadata": {}
  },
  {
   "cell_type": "code",
   "execution_count": 12,
   "source": [
    "[julia_set(r + i*im, 0.0567 - 0.65122*im) for i=-0.1:0.00001:0.1, r=-0.1:0.0000025:0.1]"
   ],
   "outputs": [],
   "metadata": {}
  },
  {
   "cell_type": "code",
   "execution_count": 2,
   "source": [
    "\r\n",
    "\r\n",
    "using Colors, Images, ImageMagick, ImageView\r\n"
   ],
   "outputs": [],
   "metadata": {}
  },
  {
   "cell_type": "code",
   "execution_count": 41,
   "source": [
    "cmap = convert(Vector{RGB{Float16}}, colormap(\"RdBu\",256))\r\n",
    "img = [cmap[julia_set(r + i*im, -0.4 + 0.6*im)] for i=0.18:0.00001:0.28, r=-1.08:0.00001:-0.98]\r\n",
    "ImageView.imshow(img)\r\n",
    "save(\"Fractals.png\", img)"
   ],
   "outputs": [],
   "metadata": {}
  },
  {
   "cell_type": "markdown",
   "source": [
    "### Interactive Julia set"
   ],
   "metadata": {}
  },
  {
   "cell_type": "code",
   "execution_count": 9,
   "source": [
    "using Interact"
   ],
   "outputs": [],
   "metadata": {}
  },
  {
   "cell_type": "code",
   "execution_count": null,
   "source": [
    "@manipulate for r_slide = -0.1:0.0001:0.1, i_slide = -0.65:0.001:0.65\r\n",
    "    \r\n",
    "end"
   ],
   "outputs": [],
   "metadata": {}
  }
 ],
 "metadata": {
  "kernelspec": {
   "display_name": "Julia 1.6.1",
   "language": "julia",
   "name": "julia-1.6"
  },
  "language_info": {
   "name": "julia",
   "version": "1.6.1",
   "mimetype": "application/julia",
   "file_extension": ".jl"
  }
 },
 "nbformat": 4,
 "nbformat_minor": 4
}